{
 "cells": [
  {
   "cell_type": "markdown",
   "id": "b6143fa8-57d8-49ab-b64f-056e810eb4d9",
   "metadata": {},
   "source": [
    "## Raíces de ecuaciones no lineales"
   ]
  },
  {
   "cell_type": "markdown",
   "id": "9c10b7b6-12ea-47c7-b6cc-d62af2110d9a",
   "metadata": {},
   "source": [
    "Dada una función $f(x)$. Una raíz de la ecuación $f(x)=0$, es un valor $r$ que satisface la ecuaión, es decir $$f(r)=0.$$"
   ]
  },
  {
   "cell_type": "code",
   "execution_count": 1,
   "id": "272eee1b-2c71-4bf1-8816-99371065c143",
   "metadata": {},
   "outputs": [
    {
     "name": "stdout",
     "output_type": "stream",
     "text": [
      "Método de bisección\n",
      "Método de Newton\n"
     ]
    },
    {
     "data": {
      "text/plain": [
       "1.4142135623731364"
      ]
     },
     "execution_count": 1,
     "metadata": {},
     "output_type": "execute_result"
    }
   ],
   "source": [
    "from scipy import optimize\n",
    "import numpy as np\n",
    "\n",
    "def f(x):\n",
    "    return x**2-2\n",
    "\n",
    "def df(x):\n",
    "    return 2*x\n",
    "\n",
    "print(\"Método de bisección\")\n",
    "optimize.bisect(f,-1,100000)\n",
    "print(\"Método de Newton\")\n",
    "optimize.newton(f,0.01,df)\n",
    "optimize.brentq(f,0,2)"
   ]
  }
 ],
 "metadata": {
  "kernelspec": {
   "display_name": "Python 3 (ipykernel)",
   "language": "python",
   "name": "python3"
  },
  "language_info": {
   "codemirror_mode": {
    "name": "ipython",
    "version": 3
   },
   "file_extension": ".py",
   "mimetype": "text/x-python",
   "name": "python",
   "nbconvert_exporter": "python",
   "pygments_lexer": "ipython3",
   "version": "3.11.7"
  }
 },
 "nbformat": 4,
 "nbformat_minor": 5
}
