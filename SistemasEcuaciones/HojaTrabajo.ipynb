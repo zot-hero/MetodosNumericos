{
 "cells": [
  {
   "cell_type": "code",
   "execution_count": 1,
   "id": "61a61884-afde-4395-9625-6ca05bef696a",
   "metadata": {},
   "outputs": [
    {
     "data": {
      "text/latex": [
       "$\\displaystyle - \\frac{\\log{\\left(x \\right)}}{2} + \\frac{\\log{\\left(x + 1 \\right)}}{2} - \\frac{1}{2 x}$"
      ],
      "text/plain": [
       "-log(x)/2 + log(x + 1)/2 - 1/(2*x)"
      ]
     },
     "execution_count": 1,
     "metadata": {},
     "output_type": "execute_result"
    }
   ],
   "source": [
    "import sympy as sp\n",
    "from sympy import exp, cos, sin, sqrt\n",
    "import numpy as np\n",
    "\n",
    "x = sp.symbols('x')\n",
    "t = sp.symbols('t')\n",
    "C1 = sp.symbols('C1')\n",
    "C2 = sp.symbols('C1')\n",
    "C3 = sp.symbols('C1')\n",
    "y = sp.Function('y')\n",
    "\n",
    "sp.integrate(sp.cos(2*x)*sp.sin(2*x)/2,x)\n",
    "sp.integrate(1/(2*x**2*(x+1)),x)"
   ]
  },
  {
   "cell_type": "code",
   "execution_count": 2,
   "id": "b7726885-d693-43e3-ad6c-a644ce8d843f",
   "metadata": {},
   "outputs": [
    {
     "data": {
      "text/latex": [
       "$\\displaystyle \\frac{1}{2 \\left(x + 1\\right)} - \\frac{1}{2 x} + \\frac{1}{2 x^{2}}$"
      ],
      "text/plain": [
       "1/(2*(x + 1)) - 1/(2*x) + 1/(2*x**2)"
      ]
     },
     "execution_count": 2,
     "metadata": {},
     "output_type": "execute_result"
    }
   ],
   "source": [
    "sp.apart(1/(2*x**2*(x+1)))"
   ]
  },
  {
   "cell_type": "code",
   "execution_count": 3,
   "id": "75fc5afb-633d-42c6-b1c3-c5a31aecc438",
   "metadata": {},
   "outputs": [
    {
     "data": {
      "text/latex": [
       "$\\displaystyle \\left[\\begin{matrix}\\left(1 - t\\right) e^{- t} & e^{- 2 t}\\\\- e^{- t} + 5 e^{- 2 t} & \\left(- 3 \\sqrt{3} \\sin{\\left(\\frac{\\sqrt{3} t}{2} \\right)} + \\cos{\\left(\\frac{\\sqrt{3} t}{2} \\right)}\\right) e^{- \\frac{t}{2}}\\end{matrix}\\right]$"
      ],
      "text/plain": [
       "Matrix([\n",
       "[       (1 - t)*exp(-t),                                                  exp(-2*t)],\n",
       "[-exp(-t) + 5*exp(-2*t), (-3*sqrt(3)*sin(sqrt(3)*t/2) + cos(sqrt(3)*t/2))*exp(-t/2)]])"
      ]
     },
     "execution_count": 3,
     "metadata": {},
     "output_type": "execute_result"
    }
   ],
   "source": [
    "g = sp.Matrix([[exp(-t)*(1 - t), exp(-2*t)], [5*exp((-2*t))-exp((-t)), (cos((sqrt(3)*t)/2) - 3*sqrt(3)*sin((sqrt(3)*t)/2))*exp(-t/2)]])\n",
    "g"
   ]
  }
 ],
 "metadata": {
  "kernelspec": {
   "display_name": "Python 3 (ipykernel)",
   "language": "python",
   "name": "python3"
  },
  "language_info": {
   "codemirror_mode": {
    "name": "ipython",
    "version": 3
   },
   "file_extension": ".py",
   "mimetype": "text/x-python",
   "name": "python",
   "nbconvert_exporter": "python",
   "pygments_lexer": "ipython3",
   "version": "3.11.4"
  }
 },
 "nbformat": 4,
 "nbformat_minor": 5
}
