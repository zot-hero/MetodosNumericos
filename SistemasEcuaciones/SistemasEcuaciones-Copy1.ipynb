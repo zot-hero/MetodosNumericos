{
 "cells": [
  {
   "cell_type": "markdown",
   "id": "b588b60f-e338-4be5-9a8f-751b90053c9f",
   "metadata": {},
   "source": [
    "# Sistemas de ecuaciones lineales algebraicas"
   ]
  },
  {
   "cell_type": "markdown",
   "id": "2cf6041a-adb7-4c32-b367-f899849379e1",
   "metadata": {},
   "source": [
    "Un sistema de $n$ ecuaciones lineales con $n$ incognitas tiene la forma \n",
    "$$\\left\\{\\begin{array}{cc}\n",
    "a_{11}x_1 + a_{12}x_1 + a_{13}x_1 + \\ldots + a_{1n}x_n & = b_1\\\\\n",
    "a_{21}x_1 + a_{22}x_1 + a_{23}x_1 + \\ldots + a_{2n}x_n & = b_2\\\\\n",
    "\\vdots & \\vdots\\\\\n",
    "a_{n1}x_1 + a_{n2}x_1 + a_{n3}x_1 + \\ldots + a_{nn}x_n & = b_n\\\\\n",
    "\\end{array}\\right.$$\n",
    "donde se conocen los coeficientes $a_{ij}$ y las constantes $b_i$, y $x_i$ representan las incognitas. En notación matricial las ecuaciones se escribe como \n",
    "$$\\begin{bmatrix}\n",
    "a_{11} & a_{12} & a_{13} & \\ldots & a_{1n}\\\\\n",
    "a_{21} & a_{22} & a_{23} & \\ldots & a_{2n}\\\\\n",
    "\\vdots & \\vdots\\\\\n",
    "a_{n1} & a_{n2} & a_{n3} & \\ldots & a_{nn}\\\\\n",
    "\\end{bmatrix} \\cdot \n",
    "\\begin{bmatrix}\n",
    "x_{1}\\\\\n",
    "x_{2}\\\\\n",
    "\\vdots\\\\\n",
    "x_{n}\\\\\n",
    "\\end{bmatrix} = \n",
    "\\begin{bmatrix}\n",
    "b_{1}\\\\\n",
    "b_{2}\\\\\n",
    "\\vdots\\\\\n",
    "b_{n}\\\\\n",
    "\\end{bmatrix}\n",
    "$$\n",
    "y si denotamos por $\\mathbf{A}$ a la matriz de coeficintes, $\\mathbf{x}$ al vector columna de incognita y $\\mathbf{b}$ al vector columna de resultados, entonces sistema equiva a la operación $$\\mathbf{A} \\cdot \\mathbf{x} = \\mathbf{b}$$\n",
    "\n",
    "\n",
    "$$\\left[A|b\\right] = \\left[\\begin{array}{ccccc|c}\n",
    "a_{11} & a_{12} & a_{13} & \\ldots & a_{1n} & b_1\\\\\n",
    "a_{21} & a_{22} & a_{23} & \\ldots & a_{2n} & b_2\\\\\n",
    "\\vdots & \\vdots\\\\\n",
    "a_{n1} & a_{n2} & a_{n3} & \\ldots & a_{nn} & b_n\\\\\n",
    "\\end{array}\\right]$$"
   ]
  },
  {
   "cell_type": "markdown",
   "id": "879fd12b-c096-4587-8bed-59dbe8522040",
   "metadata": {},
   "source": [
    "## Escribir conceptos basicos de las operaciones con matrices"
   ]
  },
  {
   "cell_type": "markdown",
   "id": "c50a70d1-d9e5-4c80-8744-1f32debba474",
   "metadata": {},
   "source": [
    "# Método de Eliminación Gaussiana\n",
    "\n",
    "Supongamos que tenemos un sistema de ecuaciones lineales de la forma $A \\mathbf{x} = \\mathbf{b}$, donde $A$ es una matriz de coeficientes $n \\times n$, $\\mathbf{x}$ es un vector de incógnitas, y $\\mathbf{b}$ es un vector de términos independientes.\n",
    "\n",
    "#### Paso 1: Matriz Aumentada\n",
    "Formamos la matriz aumentada $[A | \\mathbf{b}]$.\n",
    "\n",
    "#### Paso 2: Eliminación hacia adelante\n",
    "Convertimos la matriz aumentada en una matriz triangular superior.\n",
    "\n",
    "1. **Para cada fila $k$ desde 1 hasta $n-1$**:\n",
    "   - Seleccionamos el pivote $a_{kk}$. Si $a_{kk} = 0$, intercambiamos filas para obtener un pivote no cero.\n",
    "   - **Para cada fila $i$ desde $k+1$ hasta $n$**:\n",
    "     - Calculamos el multiplicador $m_{ik} = \\dfrac{a_{ik}}{a_{kk}}$.\n",
    "     - Restamos $m_{ik} \\cdot$ (fila $k$) de la fila $i$ para hacer cero los elementos debajo del pivote.\n",
    "\n",
    "#### Paso 3: Sustitución hacia atrás\n",
    "Resolvemos el sistema triangular superior resultante.\n",
    "\n",
    "1. **Para $i$ desde $n$ hasta 1**:\n",
    "   - $\\displaystyle x_i = \\frac{b_i - \\sum_{j=i+1}^{n} a_{ij} x_j}{a_{ii}}$\n",
    "\n"
   ]
  },
  {
   "cell_type": "markdown",
   "id": "055865c5-ad2c-41ed-8830-00cb174702f0",
   "metadata": {},
   "source": [
    "## Implementación del metodo "
   ]
  },
  {
   "cell_type": "code",
   "execution_count": 1,
   "id": "948ffc78-3f55-467b-94a4-d768b2a26c50",
   "metadata": {},
   "outputs": [
    {
     "name": "stdout",
     "output_type": "stream",
     "text": [
      "A=\n",
      " [[ 1  1  0  3]\n",
      " [ 2  1 -1  1]\n",
      " [ 3 -1 -1  2]\n",
      " [-1  2  3 -1]]\n",
      "b=\n",
      " [ 4  1 -3  4]\n"
     ]
    }
   ],
   "source": [
    "import numpy as np\n",
    "# Ejemplo\n",
    "A = np.array([\n",
    "     [1,1,0,3],\n",
    "     [2,1,-1,1],\n",
    "     [3,-1,-1,2],\n",
    "     [-1,2,3,-1]\n",
    "])\n",
    "b = np.array([4,1,-3,4])\n",
    "\n",
    "print(\"A=\\n\",A)\n",
    "print(\"b=\\n\",b)\n",
    "\n"
   ]
  },
  {
   "cell_type": "markdown",
   "id": "3e19dcda-c871-4655-ba51-928df4a81046",
   "metadata": {},
   "source": [
    "## Operaciones elementales con renglones"
   ]
  },
  {
   "cell_type": "code",
   "execution_count": 2,
   "id": "32a66ef2-02c6-4f09-9ddb-4a26e0e89ccf",
   "metadata": {},
   "outputs": [
    {
     "name": "stdout",
     "output_type": "stream",
     "text": [
      "[[ 2  1 -1  1]\n",
      " [ 1  1  0  3]\n",
      " [ 3 -1 -1  2]\n",
      " [-1  2  3 -1]]\n"
     ]
    }
   ],
   "source": [
    "#Intercambio de renglones\n",
    "A1 = A.copy()\n",
    "A1[[0,1]]=A1[[1,0]]\n",
    "print(A1)"
   ]
  },
  {
   "cell_type": "code",
   "execution_count": 3,
   "id": "6b35ac60-ffee-4bdb-ae02-f157acc9fa21",
   "metadata": {},
   "outputs": [
    {
     "name": "stdout",
     "output_type": "stream",
     "text": [
      "[ 5  5  0 15]\n"
     ]
    }
   ],
   "source": [
    "# Multiplicación de un renglón por escalar\n",
    "print(5*A[0])"
   ]
  },
  {
   "cell_type": "code",
   "execution_count": 4,
   "id": "98a487b3-450c-4151-998a-6e6971c1ee87",
   "metadata": {},
   "outputs": [
    {
     "data": {
      "text/plain": [
       "array([1, 3, 2, 0])"
      ]
     },
     "execution_count": 4,
     "metadata": {},
     "output_type": "execute_result"
    }
   ],
   "source": [
    "A[1]+A[3]"
   ]
  },
  {
   "cell_type": "markdown",
   "id": "d47eaafb-a791-4a62-932a-b55a24912436",
   "metadata": {},
   "source": [
    "## Matriz Aumentada"
   ]
  },
  {
   "cell_type": "code",
   "execution_count": 5,
   "id": "c2c8ed96-94b4-4e04-b332-0303c3408fa3",
   "metadata": {},
   "outputs": [
    {
     "data": {
      "text/plain": [
       "array([[ 1,  1,  0,  3,  4],\n",
       "       [ 2,  1, -1,  1,  1],\n",
       "       [ 3, -1, -1,  2, -3],\n",
       "       [-1,  2,  3, -1,  4]])"
      ]
     },
     "execution_count": 5,
     "metadata": {},
     "output_type": "execute_result"
    }
   ],
   "source": [
    "b1 = b.reshape(-1,1)\n",
    "np.hstack([A,b1])"
   ]
  },
  {
   "cell_type": "markdown",
   "id": "466d67e5-19de-4517-ba31-c59e0ae12037",
   "metadata": {},
   "source": [
    "## Sustitución inversa\n",
    "\n",
    "#### Paso 3: Sustitución hacia atrás\n",
    "Resolvemos el sistema triangular superior resultante.\n",
    "\n",
    "1. **Para $i$ desde $n$ hasta 1**:\n",
    "   - $\\displaystyle x_i = \\frac{b_i - \\sum_{j=i+1}^{n} a_{ij} x_j}{a_{ii}}$\n"
   ]
  },
  {
   "cell_type": "code",
   "execution_count": 6,
   "id": "65509e69-d167-43b9-a8e0-439e8df1947f",
   "metadata": {},
   "outputs": [],
   "source": [
    "def sustInversa(matrizA,vectorb):\n",
    "    m = len(matrizA) #renglones  \n",
    "    x = np.zeros(m)\n",
    "\n",
    "    x[m-1] = vectorb[m-1]/matrizA[m-1][m-1]\n",
    "    for i in range(m-2,-1,-1):\n",
    "        suma=0\n",
    "        for j in range(i+1,m):\n",
    "            suma +=  matrizA[i][j]*x[j]\n",
    "        x[i] = (vectorb[i] - suma) / matrizA[i][i]\n",
    "\n",
    "    return x"
   ]
  },
  {
   "cell_type": "code",
   "execution_count": 7,
   "id": "710b4192-d5de-4889-a5dc-ca4f480fd0e6",
   "metadata": {},
   "outputs": [
    {
     "name": "stdout",
     "output_type": "stream",
     "text": [
      "LA SOLUCIÓN ES:\n",
      "[-1.  2.  0.  1.]\n"
     ]
    }
   ],
   "source": [
    "# Metodo de Gauss\n",
    "def metodoGauss(matrizA,vectorb):   \n",
    "   m = len(matrizA)\n",
    "   matriz1 = matrizA.copy()\n",
    "   vectorb1 = vectorb.copy()\n",
    "\n",
    "   for j in range(m):\n",
    "      if(matriz1[j][j]==0):\n",
    "        i=j\n",
    "        while(matriz1[i][j]==0 and i < m-1):\n",
    "         i=i+1\n",
    "        if i == m-1:\n",
    "            print(\"El sistema no tiene solución única o no tiene solución\")\n",
    "            break\n",
    "        else:\n",
    "           matriz1[[j,i]]=matriz1[[i,j]]\n",
    "           vectorb1[[j,i]]=vectorb1[[i,j]]\n",
    "        \n",
    "      for i in range(j+1,m):\n",
    "        factor = matriz1[i][j]/matriz1[j][j]\n",
    "        matriz1[i]= -factor*matriz1[j] + matriz1[i]\n",
    "        vectorb1[i]= -factor*vectorb1[j] + vectorb1[i]\n",
    "\n",
    "   y = sustInversa(matriz1,vectorb1)   \n",
    "   return y\n",
    "\n",
    "print(\"LA SOLUCIÓN ES:\")    \n",
    "x = metodoGauss(A,b)\n",
    "print(x)\n",
    "\n",
    "    "
   ]
  },
  {
   "cell_type": "code",
   "execution_count": 8,
   "id": "ac80199d-3796-4b5b-b1ab-a7fbf2caa5db",
   "metadata": {},
   "outputs": [
    {
     "name": "stdout",
     "output_type": "stream",
     "text": [
      "[-1.  1. -1.  1. -1.  1. -1.  1.]\n"
     ]
    }
   ],
   "source": [
    "A1 = np.array([\n",
    "    [10, -2, -1, 2, 3, 1, -4, 7],\n",
    "    [5, 11, 3, 10, -3, 3, 3, -4],\n",
    "    [7, 12, 1, 5, 3, -12, 2, 3],\n",
    "    [8, 7, -2, 1, 3, 2, 2, 4],\n",
    "    [2, -15, -1, 1, 4, -1, 8, 3],\n",
    "    #[-1, 3, 4, 1, 3, -4, 7, 6],\n",
    "    [4, 2, 9, 1, 12, -1, 4, 1],\n",
    "    [-1, 4, -7, -1, 1, 1, -1, -3],\n",
    "    [-1, 3, 4, 1, 3, -4, 7, 6]\n",
    "],dtype=float)\n",
    "b1 = np.array([0,12,-5,3,-25,-26,9,-7],dtype=float)\n",
    "b2 = np.array([1,1,1,1,1,1,1,-1],dtype=float)\n",
    "\n",
    "x1 = metodoGauss(A1,b1)\n",
    "print(x1)"
   ]
  },
  {
   "cell_type": "markdown",
   "id": "33896409-984e-472f-b695-367c429d26ff",
   "metadata": {},
   "source": [
    "## Factorización LU"
   ]
  },
  {
   "cell_type": "code",
   "execution_count": 12,
   "id": "07e56564-6ee7-402b-b51d-d686ee0dd629",
   "metadata": {},
   "outputs": [
    {
     "name": "stdout",
     "output_type": "stream",
     "text": [
      "L = \n",
      " [[ 1.            0.            0.            0.            0.            0.            0.            0.          ]\n",
      " [ 0.5           1.            0.            0.            0.            0.            0.            0.          ]\n",
      " [ 0.7           1.1166666667  1.            0.            0.            0.            0.            0.          ]\n",
      " [ 0.8           0.7166666667  1.679245283   1.            0.            0.            0.            0.          ]\n",
      " [ 0.2          -1.2166666667 -1.5660377358  0.3832335329  1.            0.            0.            0.          ]\n",
      " [ 0.4           0.2333333333 -3.8867924528 -7.1327345309 -0.9219435737  1.            0.            0.          ]\n",
      " [-0.1           0.3166666667  3.7169811321  5.375249501   1.4263322884 -0.3675371566  1.            0.          ]\n",
      " [-0.1           0.2333333333 -1.3962264151 -2.619760479  -0.35830721    0.3236755818 -0.2611316962  1.          ]]\n",
      "\n",
      "\n",
      "U = \n",
      " [[ 10.            -2.            -1.             2.             3.             1.            -4.             7.          ]\n",
      " [  0.            12.             3.5            9.            -4.5            2.5            5.            -7.5         ]\n",
      " [  0.             0.            -2.2083333333  -6.45           5.925        -15.4916666667  -0.7833333333   6.475       ]\n",
      " [  0.             0.             0.             3.7811320755  -6.1245283019  25.4226415094   2.9320754717  -7.0981132075]\n",
      " [  0.            -0.             0.             0.             9.5508982036 -32.1616766467  12.5329341317   5.3353293413]\n",
      " [  0.            -0.             0.             0.             0.            89.4854754441  33.8570532915 -20.5931034483]\n",
      " [  0.             0.             0.             0.             0.             0.           -21.264738853   -1.0170065485]\n",
      " [  0.             0.            -0.             0.             0.             0.            -0.             7.2068086454]]\n"
     ]
    }
   ],
   "source": [
    "def factotizacionLU(matrizA):\n",
    "   m = len(matrizA)\n",
    "   n = len(matrizA[0])\n",
    "   matrizL = np.identity(m)\n",
    "   matrizU = matrizA.copy()\n",
    "\n",
    "   for j in range(m):\n",
    "      if(matrizU[j][j]!=0):\n",
    "        for i in range(j+1,m):\n",
    "            multiplicador = matrizU[i][j]/matrizU[j][j]\n",
    "            matrizL[i][j] = multiplicador\n",
    "            matrizU[i] = - multiplicador*matrizU[j] + matrizU[i]\n",
    "      else:\n",
    "         print(\"No es posible calcular la factotización LU\")\n",
    "         break\n",
    "   \n",
    "   return matrizL, matrizU\n",
    "\n",
    "np.set_printoptions(precision=10,suppress=True,linewidth=400)\n",
    "L, U= factotizacionLU(A1)\n",
    "print(\"L = \\n\", L)\n",
    "print(\"\\n\")\n",
    "print(\"U = \\n\",U)\n"
   ]
  },
  {
   "cell_type": "markdown",
   "id": "302b9653-284b-4f7c-a9e2-187a202a0e8f",
   "metadata": {},
   "source": [
    "## Sustitución directa"
   ]
  },
  {
   "cell_type": "code",
   "execution_count": 10,
   "id": "e4d663c9-3f04-4368-b93c-370541aa7214",
   "metadata": {},
   "outputs": [
    {
     "name": "stdout",
     "output_type": "stream",
     "text": [
      "y = \n",
      " [1.0, 0.5, -0.2583333333333333, 0.2754716981132075, 0.8982035928143716, 2.272204806687566, -0.02485940754995508, -1.07580459130094]\n",
      "z = \n",
      " [ 0.1407020061 -0.0269321345 -0.1095041575  0.071285079   0.125770605  -0.0121041924  0.0083083184 -0.1492761421]\n",
      "[ 1.  1.  1.  1.  1.  1.  1. -1.]\n"
     ]
    }
   ],
   "source": [
    "def sustDirecta(matrizL,b):\n",
    "    m=len(matrizL) #renglones\n",
    "    x = [0]*m    \n",
    "    x[0] = b[0]/matrizL[0][0]\n",
    "        \n",
    "    for i in range(1,m):\n",
    "        suma=0\n",
    "        for j in range(i):\n",
    "            suma = suma + matrizL[i][j]*x[j]\n",
    "        x[i] = (b[i]-suma)/matrizL[i][i]\n",
    "    return x\n",
    "\n",
    "y = sustDirecta(L,b2)\n",
    "print(\"y = \\n\", y)\n",
    "\n",
    "z=sustInversa(U,y)\n",
    "print(\"z = \\n\",z)\n",
    "print(np.dot(A1,z))\n",
    "\n"
   ]
  }
 ],
 "metadata": {
  "kernelspec": {
   "display_name": "Python 3 (ipykernel)",
   "language": "python",
   "name": "python3"
  },
  "language_info": {
   "codemirror_mode": {
    "name": "ipython",
    "version": 3
   },
   "file_extension": ".py",
   "mimetype": "text/x-python",
   "name": "python",
   "nbconvert_exporter": "python",
   "pygments_lexer": "ipython3",
   "version": "3.11.7"
  }
 },
 "nbformat": 4,
 "nbformat_minor": 5
}
