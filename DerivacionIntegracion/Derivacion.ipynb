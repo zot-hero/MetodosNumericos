{
 "cells": [
  {
   "cell_type": "markdown",
   "metadata": {},
   "source": [
    "# Diferenciación numérica"
   ]
  },
  {
   "cell_type": "markdown",
   "metadata": {
    "vscode": {
     "languageId": "plaintext"
    }
   },
   "source": [
    "**Definición.** La función $f$ es derivable en $x_0$ si existe el límite $$\\lim_{h \\rightarrow 0} \\frac{f(x_0 + h) - f(x_0)}{h}.$$ \n",
    "\n",
    "En este caso, el límite se designa por $f'(x_0)$ y recibe el nombre de derivada de $f$ en $x_0$."
   ]
  },
  {
   "cell_type": "code",
   "execution_count": null,
   "metadata": {
    "vscode": {
     "languageId": "plaintext"
    }
   },
   "outputs": [],
   "source": []
  }
 ],
 "metadata": {
  "language_info": {
   "name": "python"
  }
 },
 "nbformat": 4,
 "nbformat_minor": 2
}
