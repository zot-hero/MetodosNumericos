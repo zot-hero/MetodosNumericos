{
 "cells": [
  {
   "cell_type": "markdown",
   "id": "67add92b-7ec3-4186-85eb-5d7a56ea740e",
   "metadata": {},
   "source": [
    "# Introducción a Python"
   ]
  },
  {
   "cell_type": "code",
   "execution_count": 1,
   "id": "e5bde3f4-56e7-4d8f-b775-ec29c026bda5",
   "metadata": {},
   "outputs": [],
   "source": [
    "def imprimirMatriz(matriz):\n",
    "    m=len(matriz)\n",
    "    n=len(matriz[0])\n",
    "    for i in range(m):\n",
    "        print(\"\")\n",
    "        for j in range(n):\n",
    "            print(matriz[i][j],\"\\t\", end=\"\")\n",
    "\n",
    "def imprimirMatriz1(matriz):\n",
    "    m=len(matriz)\n",
    "    n=len(matriz[0])\n",
    "    for i in range(m):\n",
    "        print(\"\")\n",
    "        for j in range(n):\n",
    "            #print(matriz[i][j],\"\\t\", end=\"\")\n",
    "            #print(f'{x0:.16f}',\"\\t\",f'{f(x0):.16f}',\"\\t\",f'{np.abs(x1-x0):.16f}')\n",
    "            print(f'{matriz[i][j]:.8f}',end = \"\\t\")"
   ]
  },
  {
   "cell_type": "code",
   "execution_count": 2,
   "id": "ba1a0a32-b941-4f97-8a23-50d8e036c6ae",
   "metadata": {},
   "outputs": [],
   "source": [
    "# Intercambio de renglones\n",
    "def cambioRenglones(renglon1,renglon2,matriz):\n",
    "    m=len(matriz)\n",
    "    n=len(matriz[0])\n",
    "    \n",
    "    matriz1 = [[0] * n for _ in range(m)]\n",
    "    for i in range(m):\n",
    "        for j in range(n):\n",
    "            matriz1[i][j] = matriz[i][j]\n",
    "    \n",
    "    auxiliar=0    \n",
    "    for j in range(n):\n",
    "        auxiliar=matriz1[renglon2-1][j]\n",
    "        matriz1[renglon2-1][j]=matriz1[renglon1-1][j]\n",
    "        matriz1[renglon1-1][j]=auxiliar\n",
    "    \n",
    "    return matriz1"
   ]
  },
  {
   "cell_type": "code",
   "execution_count": 3,
   "id": "912e8111-cae6-4ba4-a2ac-cfef08270eb0",
   "metadata": {},
   "outputs": [],
   "source": [
    "# Multiplicación de un renglón por escalar\n",
    "def multiplicarEscalar(escalar,renglon,matriz):\n",
    "    m = len(matriz)\n",
    "    n = len(matriz[0])\n",
    "    \n",
    "    matriz1 = [[0] * n for _ in range(m)]\n",
    "    for i in range(m):\n",
    "        for j in range(n):\n",
    "            matriz1[i][j] = matriz[i][j]\n",
    "    \n",
    "    for j in range(n):\n",
    "        matriz1[renglon-1][j]=escalar*matriz1[renglon-1][j]\n",
    "        \n",
    "    return matriz1"
   ]
  },
  {
   "cell_type": "code",
   "execution_count": 4,
   "id": "4cfe6c73-4b4b-4735-b026-870508907038",
   "metadata": {},
   "outputs": [],
   "source": [
    "def sumaRenglones(escalar,renglon1,renglon2,matriz):\n",
    "    m=len(matriz)\n",
    "    n=len(matriz[0])\n",
    "    \n",
    "    matriz1 = [[0] * n for _ in range(m)]\n",
    "    \n",
    "    for i in range(m):\n",
    "        for j in range(n):\n",
    "            matriz1[i][j] = matriz[i][j]\n",
    "    \n",
    "    for j in range(n):\n",
    "        matriz1[renglon2-1][j]=escalar*matriz1[renglon1-1][j]+matriz1[renglon2-1][j]\n",
    "        \n",
    "    return matriz1"
   ]
  },
  {
   "cell_type": "code",
   "execution_count": 5,
   "id": "7ce4ac5a-c0a0-435a-8c51-b42fcb06e09d",
   "metadata": {},
   "outputs": [
    {
     "name": "stdout",
     "output_type": "stream",
     "text": [
      "\n",
      "7 \t4 \t6 \t5 \t8 \t3 \t0 \t\n",
      "7 \t4 \t6 \t5 \t8 \t3 \t0 \t\n",
      "7 \t4 \t6 \t5 \t8 \t3 \t0 \t\n",
      "7 \t4 \t6 \t5 \t8 \t3 \t0 \t"
     ]
    }
   ],
   "source": [
    "A = [[7,4,6,5,8,3],[7,4,6,5,8,3],[7,4,6,5,8,3],[7,4,6,5,8,3]]\n",
    "B = [[0],[0],[0],[0],[0],[0]]\n",
    "D = [[1,2,3],[4,2,0],[3,7,2]]\n",
    "\n",
    "C=[]\n",
    "for i in range(len(A)):\n",
    "    C.append(A[i] + B[i])\n",
    "\n",
    "imprimirMatriz(C)"
   ]
  },
  {
   "cell_type": "code",
   "execution_count": 14,
   "id": "2d9e9e4f-91e0-43b7-8709-c3a78b8aee2b",
   "metadata": {},
   "outputs": [
    {
     "data": {
      "text/plain": [
       "[[7, 4, 6, 5, 8, 3, 0],\n",
       " [7, 4, 6, 5, 8, 3, 0],\n",
       " [7, 4, 6, 5, 8, 3, 0],\n",
       " [7, 4, 6, 5, 8, 3, 0]]"
      ]
     },
     "execution_count": 14,
     "metadata": {},
     "output_type": "execute_result"
    }
   ],
   "source": [
    "def matrizAumentada(A,B):\n",
    "    C=[]\n",
    "    for i in range(len(A)):\n",
    "        C.append(A[i] + B[i])\n",
    "    return C\n",
    "\n",
    "matrizAumentada(A,B)\n",
    "    "
   ]
  },
  {
   "cell_type": "code",
   "execution_count": 20,
   "id": "d43046d5-3b18-4491-b46b-38a9ccc6842c",
   "metadata": {},
   "outputs": [
    {
     "name": "stdout",
     "output_type": "stream",
     "text": [
      "\n",
      "1.00000000\t2.00000000\t3.00000000\t1.00000000\t2.00000000\t3.00000000\t\n",
      "0.00000000\t-6.00000000\t-12.00000000\t0.00000000\t-6.00000000\t-12.00000000\t\n",
      "0.00000000\t0.00000000\t-9.00000000\t0.00000000\t0.00000000\t-9.00000000\t"
     ]
    }
   ],
   "source": [
    "def metodoGauss(matrizA,matrizB):\n",
    "    m=len(matrizA) #renglones\n",
    "    n=len(matrizA[0]) #columnas\n",
    "\n",
    "    matriz1 = matrizAumentada(matrizA,matrizB)\n",
    "\n",
    "    for j in range(m-1):\n",
    "        i=j\n",
    "        if(matriz1[j][j]==0):\n",
    "            while(matriz1[i][j]==0):\n",
    "                i+=1\n",
    "            matriz1=cambioRenglones(j+1,i+1,matriz1)\n",
    "            \n",
    "        for i in range (j+1,m):\n",
    "            matriz1=sumaRenglones(-matriz1[i][j]/matriz1[j][j],j+1,i+1,matriz1)\n",
    "        \n",
    "        #imprimirMatriz(matriz)    \n",
    "    return matriz1\n",
    "\n",
    "imprimirMatriz1(metodoGauss(D,D))"
   ]
  },
  {
   "cell_type": "code",
   "execution_count": null,
   "id": "dcb739f2-5e4c-4b0c-9efe-cff4a30e7b08",
   "metadata": {},
   "outputs": [],
   "source": []
  },
  {
   "cell_type": "code",
   "execution_count": null,
   "id": "7dc0d8a0-50ab-4e81-b17c-b312d07c4507",
   "metadata": {},
   "outputs": [],
   "source": []
  }
 ],
 "metadata": {
  "kernelspec": {
   "display_name": "Python 3 (ipykernel)",
   "language": "python",
   "name": "python3"
  },
  "language_info": {
   "codemirror_mode": {
    "name": "ipython",
    "version": 3
   },
   "file_extension": ".py",
   "mimetype": "text/x-python",
   "name": "python",
   "nbconvert_exporter": "python",
   "pygments_lexer": "ipython3",
   "version": "3.11.7"
  }
 },
 "nbformat": 4,
 "nbformat_minor": 5
}
