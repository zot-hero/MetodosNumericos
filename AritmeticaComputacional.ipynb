{
 "cells": [
  {
   "cell_type": "markdown",
   "id": "b374d052-4b1f-48c9-ab57-bf4a622de6f9",
   "metadata": {},
   "source": [
    "## Número de punto flotante"
   ]
  },
  {
   "cell_type": "markdown",
   "id": "dc4f8aa4-e4c8-4d14-9e31-5c36c248c483",
   "metadata": {},
   "source": [
    "El producto de dos números con ocho digitos a la derecha del punto es un número con 16 dígitos a la derecha el punto"
   ]
  },
  {
   "cell_type": "code",
   "execution_count": 1,
   "id": "79248703-da07-493e-b5cb-a67219521083",
   "metadata": {},
   "outputs": [
    {
     "data": {
      "text/plain": [
       "0.15116400000000002"
      ]
     },
     "execution_count": 1,
     "metadata": {},
     "output_type": "execute_result"
    }
   ],
   "source": [
    "0.234*0.646"
   ]
  },
  {
   "cell_type": "markdown",
   "id": "71f2f4c4-f056-4afe-938f-00a378d64e88",
   "metadata": {},
   "source": [
    "El redondeo es un concepto importante en la informática científica. Considere un número decimal positivo x de la forma $x=0.d_1d_2d_3 \\ldots d_m$ con m dígitos a la derecha del punto decimal. \n",
    "\n",
    "El **redondeo** de $x$ a $n$ decimales $(n < m)$ depende de alguna manera del valor del dígito $(n+1)$. Si este dígito es 0, 1, 2, 3 o 4, entonces el enésimo dígito no se cambia y todos los dígitos siguientes \n",
    "descartan. Si es 5, 6, 7, 8 o 9, entonces el enésimo dígito se incrementa en una unidad y los dígitos restantes se descartan. (La situación con 5 como (n + l) primer dígito se puede manejar de diversas maneras. Por ejemplo, algunos optan por redondear hacia arriba sólo cuando el dígito anterior es par, asumiendo que esto sucede aproximadamente la mitad de las veces. Para simplificar, siempre elegimos redondear en esta situación)."
   ]
  },
  {
   "cell_type": "code",
   "execution_count": 2,
   "id": "a1f84304-82c2-4b60-a223-31c9c2b0a5d2",
   "metadata": {},
   "outputs": [
    {
     "name": "stdout",
     "output_type": "stream",
     "text": [
      "0.787855\n",
      "0.7878548\n",
      "0.7878546\n",
      "0.7878546\n",
      "0.99967\n",
      "0.99955\n",
      "0.1735\n",
      "1.0\n",
      "0.4322\n"
     ]
    }
   ],
   "source": [
    "print(round(0.78785495,7))\n",
    "print(round(0.78785485,7))\n",
    "print(round(0.78785465,7))\n",
    "print(round(0.78785455,7))\n",
    "print(round(0.99966500,5))\n",
    "print(round(0.999550,5))\n",
    "print(round(0.1735499,4))\n",
    "print(round(0.9999500,4))\n",
    "print(round(0.4321609,4))"
   ]
  },
  {
   "cell_type": "markdown",
   "id": "6a9e3ae1-52f8-41d5-ac3a-f01271d4e81a",
   "metadata": {},
   "source": [
    "Si $x$ se redondea de modo que $\\tilde{x}$ sea la aproximación a $n$ dígitos, entonces $$|x-\\tilde{x}|\\leq\\frac{1}{2} \\times 10^{-n}$$"
   ]
  },
  {
   "cell_type": "markdown",
   "id": "55940872-44cb-4db8-a31e-914b5919b58c",
   "metadata": {},
   "source": [
    "Si $x$ es un número decimal, la aproximación de $n$ dígitos **cortada** o **truncada** es el número $\\hat{x}$ obtenido simplemente descartando todos los dígitos más allá del enésimo."
   ]
  },
  {
   "cell_type": "code",
   "execution_count": 3,
   "id": "89491542-191b-4237-9dcd-de43d4d4dc02",
   "metadata": {},
   "outputs": [
    {
     "data": {
      "text/plain": [
       "1000000000000000090824893823431825424384"
      ]
     },
     "execution_count": 3,
     "metadata": {},
     "output_type": "execute_result"
    }
   ],
   "source": [
    "import math\n",
    "math.trunc(0.1*10**40)\n"
   ]
  },
  {
   "cell_type": "markdown",
   "id": "c281f036-45a8-4a53-a39a-682bd9f3ae67",
   "metadata": {},
   "source": [
    "## Notación científica normalizada"
   ]
  },
  {
   "cell_type": "markdown",
   "id": "cefdf771-d249-46f1-8dd9-e9875597c87b",
   "metadata": {},
   "source": [
    "En un sistema decimal, cualquier número real puede ser expresado en **notación cientifica normalizada**. Esto significa que el punto decimal es desplazado y una potencia de base 10 lo reeplaza de tal forma que todos los dígitos estarán a la derecha del punto decimal y el primer dígito es diferente de 0. Por ejemplo $$8347.56 = 0.834756 \\times 10^4$$ $$-0.000726534=-0.726534 \\times 10^{-4}$$\n",
    "\n",
    "En general, un número real diferente de cero puede ser expresado en la forma $$x = \\pm r \\times 10^n$$\n",
    "donde $r$ es un número en el rango $\\frac{1}{10} \\leq r \\leq 1$ y $n$ un entero (positivo, negativo o cero). Claro, si $x = 0$ entonces $r = 0$; en todos los casos, podemos ajustar $n$ de tal forma que $r$ pertenesca al rango dado.\n",
    "\n",
    "Exactamente de la misma forma, podemos usar la notación científica en el **sistema binario**. Ahora tenemos $$x = \\pm q \\times 2^m$$ donde $$\\frac{1}{2} \\leq q < 1$$ (si $x \\neq 0$) y $m$ es un entero. El número $q$ es llamado **mantisa** y el número $m$ **exponente**. Ambos $q$ y $m$ son números en base 2.\n",
    "\n",
    "Cuando almacenamos un número binario en una computadora, una leve modoficación a notación es útil. Supongamos que el primer dígito binario 1 se desplaza justo a la izquierda del punto binario. En este caso, la representación debería ser $q=(1.f)_2$ y $1 \\leq q <2$. Ahora solo $(.f)_2$ es almacenado en una palabra de computadora, ahorrando un bit de espacio al no almacenar realmente el bit inicial 1 pero asumiendo que está allí. Por supuesto, no se podría almacenar el bit inicial 1 en forma normalizada, lo que equivale a la misma cosa. Esto debería quedar claro en la siguiente subsección.\n"
   ]
  },
  {
   "cell_type": "code",
   "execution_count": 4,
   "id": "6fd3f25e-883d-49aa-96aa-2bbda1e6079d",
   "metadata": {},
   "outputs": [
    {
     "data": {
      "text/plain": [
       "19950631168807583848837421626835850838234968318861924548520089498529438830221946631919961684036194597899331129423209124271556491349413781117593785932096323957855730046793794526765246551266059895520550086918193311542508608460618104685509074866089624888090489894838009253941633257850621568309473902556912388065225096643874441046759871626985453222868538161694315775629640762836880760732228535091641476183956381458969463899410840960536267821064621427333394036525565649530603142680234969400335934316651459297773279665775606172582031407994198179607378245683762280037302885487251900834464581454650557929601414833921615734588139257095379769119277800826957735674444123062018757836325502728323789270710373802866393031428133241401624195671690574061419654342324638801248856147305207431992259611796250130992860241708340807605932320161268492288496255841312844061536738951487114256315111089745514203313820202931640957596464756010405845841566072044962867016515061920631004186422275908670900574606417856951911456055068251250406007519842261898059237118054444788072906395242548339221982707404473162376760846613033778706039803413197133493654622700563169937455508241780972810983291314403571877524768509857276937926433221599399876886660808368837838027643282775172273657572744784112294389733810861607423253291974813120197604178281965697475898164531258434135959862784130128185406283476649088690521047580882615823961985770122407044330583075869039319604603404973156583208672105913300903752823415539745394397715257455290510212310947321610753474825740775273986348298498340756937955646638621874569499279016572103701364433135817214311791398222983845847334440270964182851005072927748364550578634501100852987812389473928699540834346158807043959118985815145779177143619698728131459483783202081474982171858011389071228250905826817436220577475921417653715687725614904582904992461028630081535583308130101987675856234343538955409175623400844887526162643568648833519463720377293240094456246923254350400678027273837755376406726898636241037491410966718557050759098100246789880178271925953381282421954028302759408448955014676668389697996886241636313376393903373455801407636741877711055384225739499110186468219696581651485130494222369947714763069155468217682876200362777257723781365331611196811280792669481887201298643660768551639860534602297871557517947385246369446923087894265948217008051120322365496288169035739121368338393591756418733850510970271613915439590991598154654417336311656936031122249937969999226781732358023111862644575299135758175008199839236284615249881088960232244362173771618086357015468484058622329792853875623486556440536962622018963571028812361567512543338303270029097668650568557157505516727518899194129711337690149916181315171544007728650573189557450920330185304847113818315407324053319038462084036421763703911550639789000742853672196280903477974533320468368795868580237952218629120080742819551317948157624448298518461509704888027274721574688131594750409732115080498190455803416826949787141316063210686391511681774304792596709376"
      ]
     },
     "execution_count": 4,
     "metadata": {},
     "output_type": "execute_result"
    }
   ],
   "source": [
    "2**10000"
   ]
  },
  {
   "cell_type": "code",
   "execution_count": 5,
   "id": "531238c0-a4ea-45b5-ba09-c089335a4ee5",
   "metadata": {},
   "outputs": [
    {
     "name": "stdout",
     "output_type": "stream",
     "text": [
      "El tamaño en memoria de 2**1000 es 160 bytes\n"
     ]
    }
   ],
   "source": [
    "import sys\n",
    "\n",
    "# Calcular 2**1000\n",
    "numero = 2**1000\n",
    "\n",
    "# Mostrar el tamaño en bytes\n",
    "tamaño = sys.getsizeof(numero)\n",
    "\n",
    "print(f\"El tamaño en memoria de 2**1000 es {tamaño} bytes\")\n"
   ]
  },
  {
   "cell_type": "code",
   "execution_count": 11,
   "id": "ac173fa1-5f4f-4c41-916d-59231f7ef18e",
   "metadata": {},
   "outputs": [
    {
     "name": "stdout",
     "output_type": "stream",
     "text": [
      "El epsilon de punto flotante en Python es: 2.220446049250313e-16\n",
      "1.0000000000000002\n",
      "1.0\n",
      "0.0\n"
     ]
    }
   ],
   "source": [
    "import sys\n",
    "\n",
    "epsilon = sys.float_info.epsilon\n",
    "print(f\"El epsilon de punto flotante en Python es: {epsilon}\")\n",
    "print(1+epsilon)\n",
    "print(1+epsilon/2)\n",
    "print(1.0000000000000000002-1.0000000000000000005)\n"
   ]
  },
  {
   "cell_type": "code",
   "execution_count": 14,
   "id": "390cab28-4d97-4c1e-b50a-cda0464a0e4a",
   "metadata": {},
   "outputs": [
    {
     "data": {
      "text/plain": [
       "27.56640625"
      ]
     },
     "execution_count": 14,
     "metadata": {},
     "output_type": "execute_result"
    }
   ],
   "source": [
    "1+1/2+1/8+1/16+1/32+1/256+1/4096\n",
    "1.722900390625*2**4"
   ]
  },
  {
   "cell_type": "markdown",
   "id": "675bf0e3-5849-4673-8d1d-e220d7fe8f67",
   "metadata": {},
   "source": [
    "## Aproximación\n"
   ]
  },
  {
   "cell_type": "markdown",
   "id": "ee69cae2-31a0-407d-b2d0-5c38c45a89f0",
   "metadata": {},
   "source": [
    "Considera $p=0.836582376428$ y $p^*=0.836582376000$ calcula el error relativo"
   ]
  },
  {
   "cell_type": "code",
   "execution_count": 43,
   "id": "d6920459-fce5-485d-8962-c990fb391e8d",
   "metadata": {},
   "outputs": [
    {
     "name": "stdout",
     "output_type": "stream",
     "text": [
      "True\n"
     ]
    }
   ],
   "source": [
    "p = 0.836582376428\n",
    "p1= 0.836582\n",
    "abs(p-p1)/abs(p)\n",
    "print(abs(p-p1)/abs(p) < 5*10**(-7))\n"
   ]
  }
 ],
 "metadata": {
  "kernelspec": {
   "display_name": "Python 3 (ipykernel)",
   "language": "python",
   "name": "python3"
  },
  "language_info": {
   "codemirror_mode": {
    "name": "ipython",
    "version": 3
   },
   "file_extension": ".py",
   "mimetype": "text/x-python",
   "name": "python",
   "nbconvert_exporter": "python",
   "pygments_lexer": "ipython3",
   "version": "3.11.7"
  }
 },
 "nbformat": 4,
 "nbformat_minor": 5
}
