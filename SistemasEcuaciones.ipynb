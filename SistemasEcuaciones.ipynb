{
 "cells": [
  {
   "cell_type": "markdown",
   "id": "b588b60f-e338-4be5-9a8f-751b90053c9f",
   "metadata": {},
   "source": [
    "# Sistemas de ecuaciones lineales algebraicas"
   ]
  },
  {
   "cell_type": "markdown",
   "id": "2cf6041a-adb7-4c32-b367-f899849379e1",
   "metadata": {},
   "source": [
    "Un sistema de $n$ ecuaciones lineales con $n$ incognitas tiene la forma \n",
    "$$\\left\\{\\begin{array}{cc}\n",
    "a_{11}x_1 + a_{12}x_1 + a_{13}x_1 + \\ldots + a_{1n}x_n & = b_1\\\\\n",
    "a_{21}x_1 + a_{22}x_1 + a_{23}x_1 + \\ldots + a_{2n}x_n & = b_2\\\\\n",
    "\\vdots & \\vdots\\\\\n",
    "a_{n1}x_1 + a_{n2}x_1 + a_{n3}x_1 + \\ldots + a_{nn}x_n & = b_n\\\\\n",
    "\\end{array}\\right.$$\n",
    "donde se conocen los coeficientes $a_{ij}$ y las constantes $b_i$, y $x_i$ representan las incognitas. En notación matricial las ecuaciones se escribe como \n",
    "$$\\begin{bmatrix}\n",
    "a_{11} & a_{12} & a_{13} & \\ldots & a_{1n}\\\\\n",
    "a_{21} & a_{22} & a_{23} & \\ldots & a_{2n}\\\\\n",
    "\\vdots & \\vdots\\\\\n",
    "a_{n1} & a_{n2} & a_{n3} & \\ldots & a_{nn}\\\\\n",
    "\\end{bmatrix} \\cdot \n",
    "\\begin{bmatrix}\n",
    "x_{1}\\\\\n",
    "x_{2}\\\\\n",
    "\\vdots\\\\\n",
    "x_{n}\\\\\n",
    "\\end{bmatrix} = \n",
    "\\begin{bmatrix}\n",
    "b_{1}\\\\\n",
    "b_{2}\\\\\n",
    "\\vdots\\\\\n",
    "b_{n}\\\\\n",
    "\\end{bmatrix}\n",
    "$$\n",
    "y si denotamos por $\\mathbf{A}$ a la matriz de coeficintes, $\\mathbf{x}$ al vector columna de incognita y $\\mathbf{b}$ al vector columna de resultados, entonces sistema equiva a la operación $$\\mathbf{A} \\cdot \\mathbf{x} = \\mathbf{b}$$\n",
    "\n",
    "$$\\left[A|b\\right] = \\left[\\begin{array}{ccccc|c}\n",
    "a_{11} & a_{12} & a_{13} & \\ldots & a_{1n} & b_1\\\\\n",
    "a_{21} & a_{22} & a_{23} & \\ldots & a_{2n} & b_2\\\\\n",
    "\\vdots & \\vdots\\\\\n",
    "a_{n1} & a_{n2} & a_{n3} & \\ldots & a_{nn} & b_n\\\\\n",
    "\\end{array}\\right]$$"
   ]
  },
  {
   "cell_type": "markdown",
   "id": "879fd12b-c096-4587-8bed-59dbe8522040",
   "metadata": {},
   "source": [
    "## Escribir conceptos basicos de las operaciones con matrices"
   ]
  },
  {
   "cell_type": "markdown",
   "id": "c50a70d1-d9e5-4c80-8744-1f32debba474",
   "metadata": {},
   "source": [
    "# Método de Eliminación Gaussiana\n",
    "\n",
    "Supongamos que tenemos un sistema de ecuaciones lineales de la forma $A \\mathbf{x} = \\mathbf{b}$, donde $A$ es una matriz de coeficientes $n \\times n$, $\\mathbf{x}$ es un vector de incógnitas, y $\\mathbf{b}$ es un vector de términos independientes.\n",
    "\n",
    "#### Paso 1: Matriz Aumentada\n",
    "Formamos la matriz aumentada $[A | \\mathbf{b}]$.\n",
    "\n",
    "#### Paso 2: Eliminación hacia adelante\n",
    "Convertimos la matriz aumentada en una matriz triangular superior.\n",
    "\n",
    "1. **Para cada fila $k$ desde 1 hasta $n-1$**:\n",
    "   - Seleccionamos el pivote $a_{kk}$. Si $a_{kk} = 0$, intercambiamos filas para obtener un pivote no cero.\n",
    "   - **Para cada fila $i$ desde $k+1$ hasta $n$**:\n",
    "     - Calculamos el multiplicador $m_{ik} = \\dfrac{a_{ik}}{a_{kk}}$.\n",
    "     - Restamos $m_{ik} \\cdot$ (fila $k$) de la fila $i$ para hacer cero los elementos debajo del pivote.\n",
    "\n",
    "#### Paso 3: Sustitución hacia atrás\n",
    "Resolvemos el sistema triangular superior resultante.\n",
    "\n",
    "1. **Para $i$ desde $n$ hasta 1**:\n",
    "   - $\\displaystyle x_i = \\frac{b_i - \\sum_{j=i+1}^{n} a_{ij} x_j}{a_{ii}}$\n",
    "\n"
   ]
  },
  {
   "cell_type": "markdown",
   "id": "055865c5-ad2c-41ed-8830-00cb174702f0",
   "metadata": {},
   "source": [
    "## Implementación del metodo "
   ]
  },
  {
   "cell_type": "code",
   "execution_count": 15,
   "id": "948ffc78-3f55-467b-94a4-d768b2a26c50",
   "metadata": {},
   "outputs": [
    {
     "name": "stdout",
     "output_type": "stream",
     "text": [
      "\n",
      "1 \t1 \t0 \t3 \t\n",
      "2 \t1 \t-1 \t1 \t\n",
      "3 \t-1 \t-1 \t2 \t\n",
      "-1 \t2 \t3 \t-1 \t\n",
      "\n",
      "\n",
      "1.00000000\t1.00000000\t0.00000000\t3.00000000\t\n",
      "2.00000000\t1.00000000\t-1.00000000\t1.00000000\t\n",
      "3.00000000\t-1.00000000\t-1.00000000\t2.00000000\t\n",
      "-1.00000000\t2.00000000\t3.00000000\t-1.00000000\t"
     ]
    }
   ],
   "source": [
    "import numpy as np\n",
    "# Ejemplo\n",
    "A = [[1,1,0,3],\n",
    "     [2,1,-1,1],\n",
    "     [3,-1,-1,2],\n",
    "     [-1,2,3,-1]]\n",
    "b = [4,1,-3,4]\n",
    "\n",
    "# Esta función imprime una matriz como un arreglo bidimensional\n",
    "def imprimirMatriz(matriz):\n",
    "    m=len(matriz)\n",
    "    n=len(matriz[0])\n",
    "    for i in range(m):\n",
    "        print(\"\")\n",
    "        for j in range(n):\n",
    "            print(matriz[i][j],\"\\t\", end=\"\")\n",
    "\n",
    "def imprimirMatriz1(matriz):\n",
    "    m=len(matriz)\n",
    "    n=len(matriz[0])\n",
    "    for i in range(m):\n",
    "        print(\"\")\n",
    "        for j in range(n):\n",
    "            #print(matriz[i][j],\"\\t\", end=\"\")\n",
    "            #print(f'{x0:.16f}',\"\\t\",f'{f(x0):.16f}',\"\\t\",f'{np.abs(x1-x0):.16f}')\n",
    "            print(f'{matriz[i][j]:.8f}',end = \"\\t\")\n",
    "            \n",
    "imprimirMatriz(A)\n",
    "print(\"\\n\")\n",
    "imprimirMatriz1(A)"
   ]
  },
  {
   "cell_type": "markdown",
   "id": "3e19dcda-c871-4655-ba51-928df4a81046",
   "metadata": {},
   "source": [
    "## Operaciones elementales con renglones"
   ]
  },
  {
   "cell_type": "code",
   "execution_count": 2,
   "id": "32a66ef2-02c6-4f09-9ddb-4a26e0e89ccf",
   "metadata": {},
   "outputs": [
    {
     "name": "stdout",
     "output_type": "stream",
     "text": [
      "\n",
      "2 \t1 \t-1 \t1 \t\n",
      "1 \t1 \t0 \t3 \t\n",
      "3 \t-1 \t-1 \t2 \t\n",
      "-1 \t2 \t3 \t-1 \t\n",
      "\n",
      "\n",
      "1 \t1 \t0 \t3 \t\n",
      "2 \t1 \t-1 \t1 \t\n",
      "3 \t-1 \t-1 \t2 \t\n",
      "-1 \t2 \t3 \t-1 \t"
     ]
    }
   ],
   "source": [
    "# Intercambio de renglones\n",
    "def cambioRenglones(renglon1,renglon2,matriz):\n",
    "    m=len(matriz)\n",
    "    n=len(matriz[0])\n",
    "    \n",
    "    matriz1 = [[0] * n for _ in range(m)]\n",
    "    for i in range(m):\n",
    "        for j in range(n):\n",
    "            matriz1[i][j] = matriz[i][j]\n",
    "    \n",
    "    auxiliar=0    \n",
    "    for j in range(n):\n",
    "        auxiliar=matriz1[renglon2-1][j]\n",
    "        matriz1[renglon2-1][j]=matriz1[renglon1-1][j]\n",
    "        matriz1[renglon1-1][j]=auxiliar\n",
    "    \n",
    "    return matriz1\n",
    "\n",
    "imprimirMatriz(cambioRenglones(1,2,A))\n",
    "print(\"\\n\")\n",
    "imprimirMatriz(A)\n"
   ]
  },
  {
   "cell_type": "code",
   "execution_count": 3,
   "id": "6b35ac60-ffee-4bdb-ae02-f157acc9fa21",
   "metadata": {},
   "outputs": [
    {
     "name": "stdout",
     "output_type": "stream",
     "text": [
      "\n",
      "1 \t1 \t0 \t3 \t\n",
      "2 \t1 \t-1 \t1 \t\n",
      "30 \t-10 \t-10 \t20 \t\n",
      "-1 \t2 \t3 \t-1 \t\n",
      "\n",
      "\n",
      "1 \t1 \t0 \t3 \t\n",
      "2 \t1 \t-1 \t1 \t\n",
      "3 \t-1 \t-1 \t2 \t\n",
      "-1 \t2 \t3 \t-1 \t"
     ]
    }
   ],
   "source": [
    "# Multiplicación de un renglón por escalar\n",
    "def multiplicarEscalar(escalar,renglon,matriz):\n",
    "    m = len(matriz)\n",
    "    n = len(matriz[0])\n",
    "    \n",
    "    matriz1 = [[0] * n for _ in range(m)]\n",
    "    for i in range(m):\n",
    "        for j in range(n):\n",
    "            matriz1[i][j] = matriz[i][j]\n",
    "    \n",
    "    for j in range(n):\n",
    "        matriz1[renglon-1][j]=escalar*matriz1[renglon-1][j]\n",
    "        \n",
    "    return matriz1\n",
    "\n",
    "imprimirMatriz(multiplicarEscalar(10,3, A))\n",
    "print(\"\\n\")\n",
    "imprimirMatriz(A)"
   ]
  },
  {
   "cell_type": "code",
   "execution_count": 4,
   "id": "98a487b3-450c-4151-998a-6e6971c1ee87",
   "metadata": {},
   "outputs": [
    {
     "name": "stdout",
     "output_type": "stream",
     "text": [
      "\n",
      "1 \t1 \t0 \t3 \t\n",
      "2 \t1 \t-1 \t1 \t\n",
      "0 \t-4 \t-1 \t-7 \t\n",
      "-1 \t2 \t3 \t-1 \t"
     ]
    }
   ],
   "source": [
    "# Suma de un múltiplo escalar de un renglo a otro\n",
    "def sumaRenglones(escalar,renglon1,renglon2,matriz):\n",
    "    m=len(matriz)\n",
    "    n=len(matriz[0])\n",
    "    \n",
    "    matriz1 = [[0] * n for _ in range(m)]\n",
    "    \n",
    "    for i in range(m):\n",
    "        for j in range(n):\n",
    "            matriz1[i][j] = matriz[i][j]\n",
    "    \n",
    "    for j in range(n):\n",
    "        matriz1[renglon2-1][j]=escalar*matriz1[renglon1-1][j]+matriz1[renglon2-1][j]\n",
    "        \n",
    "    return matriz1\n",
    "\n",
    "imprimirMatriz(sumaRenglones(-3,1,3,A))\n",
    "\n"
   ]
  },
  {
   "cell_type": "code",
   "execution_count": 5,
   "id": "710b4192-d5de-4889-a5dc-ca4f480fd0e6",
   "metadata": {},
   "outputs": [
    {
     "name": "stdout",
     "output_type": "stream",
     "text": [
      "\n",
      "1 \t1 \t0 \t3 \t\n",
      "0.0 \t-1.0 \t-1.0 \t-5.0 \t\n",
      "0.0 \t0.0 \t3.0 \t13.0 \t\n",
      "0.0 \t0.0 \t0.0 \t-13.0 \t\n",
      "1 \t1 \t0 \t3 \t\n",
      "2 \t1 \t-1 \t1 \t\n",
      "3 \t-1 \t-1 \t2 \t\n",
      "-1 \t2 \t3 \t-1 \t"
     ]
    }
   ],
   "source": [
    "# Metodo de Gauss\n",
    "def metodoGauss(matriz):\n",
    "    m=len(matriz) #renglones\n",
    "    n=len(matriz[0]) #columnas\n",
    "\n",
    "    matriz1 = [[0] * n for _ in range(m)]\n",
    "    \n",
    "    for i in range(m):\n",
    "        for j in range(n):\n",
    "            matriz1[i][j] = matriz[i][j]\n",
    "\n",
    "    for j in range(m-1):\n",
    "        i=j\n",
    "        if(matriz1[j][j]==0):\n",
    "            while(matriz1[i][j]==0):\n",
    "                i+=1\n",
    "            matriz1=cambioRenglones(j+1,i+1,matriz1)\n",
    "            \n",
    "        for i in range (j+1,m):\n",
    "            matriz1=sumaRenglones(-matriz1[i][j]/matriz1[j][j],j+1,i+1,matriz1)\n",
    "        \n",
    "        #imprimirMatriz(matriz)    \n",
    "    return matriz1\n",
    "\n",
    "imprimirMatriz(metodoGauss(A))\n",
    "imprimirMatriz(A)\n",
    "    "
   ]
  },
  {
   "cell_type": "code",
   "execution_count": null,
   "id": "d295b2b8-c449-4a4d-ab57-efa017cb9ef5",
   "metadata": {},
   "outputs": [],
   "source": []
  },
  {
   "cell_type": "code",
   "execution_count": 6,
   "id": "ac80199d-3796-4b5b-b1ab-a7fbf2caa5db",
   "metadata": {},
   "outputs": [
    {
     "name": "stdout",
     "output_type": "stream",
     "text": [
      "\n",
      "10 \t-2 \t-1 \t2 \t3 \t1 \t-4 \t7 \t\n",
      "5 \t11 \t3 \t10 \t-3 \t3 \t3 \t-4 \t\n",
      "7 \t12 \t1 \t5 \t3 \t-12 \t2 \t3 \t\n",
      "8 \t7 \t-2 \t1 \t3 \t2 \t2 \t4 \t\n",
      "2 \t-15 \t-1 \t1 \t4 \t-1 \t8 \t3 \t\n",
      "4 \t2 \t9 \t1 \t12 \t-1 \t4 \t1 \t\n",
      "-1 \t4 \t-7 \t-1 \t1 \t1 \t-1 \t-3 \t\n",
      "-1 \t3 \t4 \t1 \t3 \t-4 \t7 \t6 \t\n",
      "\n",
      "\n",
      "10.00000000\t-2.00000000\t-1.00000000\t2.00000000\t3.00000000\t1.00000000\t-4.00000000\t7.00000000\t\n",
      "0.00000000\t12.00000000\t3.50000000\t9.00000000\t-4.50000000\t2.50000000\t5.00000000\t-7.50000000\t\n",
      "0.00000000\t0.00000000\t-2.20833333\t-6.45000000\t5.92500000\t-15.49166667\t-0.78333333\t6.47500000\t\n",
      "0.00000000\t0.00000000\t0.00000000\t3.78113208\t-6.12452830\t25.42264151\t2.93207547\t-7.09811321\t\n",
      "0.00000000\t-0.00000000\t0.00000000\t0.00000000\t9.55089820\t-32.16167665\t12.53293413\t5.33532934\t\n",
      "0.00000000\t-0.00000000\t0.00000000\t0.00000000\t0.00000000\t89.48547544\t33.85705329\t-20.59310345\t\n",
      "0.00000000\t0.00000000\t0.00000000\t0.00000000\t0.00000000\t0.00000000\t-21.26473885\t-1.01700655\t\n",
      "0.00000000\t0.00000000\t-0.00000000\t0.00000000\t0.00000000\t0.00000000\t-0.00000000\t7.20680865\t\n",
      "\n",
      "\n",
      "0 \t0 \t0 \t0 \t0 \t0 \t0 \t0 \t\n",
      "0 \t0 \t0 \t0 \t0 \t0 \t0 \t0 \t\n",
      "0 \t0 \t0 \t0 \t0 \t0 \t0 \t0 \t\n",
      "0 \t0 \t0 \t0 \t0 \t0 \t0 \t0 \t\n",
      "0 \t0 \t0 \t0 \t0 \t0 \t0 \t0 \t\n",
      "0 \t0 \t0 \t0 \t0 \t0 \t0 \t0 \t\n",
      "0 \t0 \t0 \t0 \t0 \t0 \t0 \t0 \t\n",
      "0 \t0 \t0 \t0 \t0 \t0 \t0 \t0 \t\n",
      "\n",
      "\n",
      "10 \t-2 \t-1 \t2 \t3 \t1 \t-4 \t7 \t0 \t\n",
      "5 \t11 \t3 \t10 \t-3 \t3 \t3 \t-4 \t12 \t\n",
      "7 \t12 \t1 \t5 \t3 \t-12 \t2 \t3 \t-5 \t\n",
      "8 \t7 \t-2 \t1 \t3 \t2 \t2 \t4 \t3 \t\n",
      "2 \t-15 \t-1 \t1 \t4 \t-1 \t8 \t3 \t-25 \t\n",
      "4 \t2 \t9 \t1 \t12 \t-1 \t4 \t1 \t-26 \t\n",
      "-1 \t4 \t-7 \t-1 \t1 \t1 \t-1 \t-3 \t9 \t\n",
      "-1 \t3 \t4 \t1 \t3 \t-4 \t7 \t6 \t-7 \t\n",
      "10.00000000\t-2.00000000\t-1.00000000\t2.00000000\t3.00000000\t1.00000000\t-4.00000000\t7.00000000\t0.00000000\t\n",
      "0.00000000\t12.00000000\t3.50000000\t9.00000000\t-4.50000000\t2.50000000\t5.00000000\t-7.50000000\t12.00000000\t\n",
      "0.00000000\t0.00000000\t-2.20833333\t-6.45000000\t5.92500000\t-15.49166667\t-0.78333333\t6.47500000\t-18.40000000\t\n",
      "0.00000000\t0.00000000\t0.00000000\t3.78113208\t-6.12452830\t25.42264151\t2.93207547\t-7.09811321\t25.29811321\t\n",
      "0.00000000\t-0.00000000\t0.00000000\t0.00000000\t9.55089820\t-32.16167665\t12.53293413\t5.33532934\t-48.91017964\t\n",
      "0.00000000\t-0.00000000\t0.00000000\t0.00000000\t0.00000000\t89.48547544\t33.85705329\t-20.59310345\t35.03531870\t\n",
      "0.00000000\t0.00000000\t0.00000000\t0.00000000\t0.00000000\t0.00000000\t-21.26473885\t-1.01700655\t20.24773230\t\n",
      "0.00000000\t0.00000000\t-0.00000000\t0.00000000\t0.00000000\t0.00000000\t-0.00000000\t7.20680865\t7.20680865\t"
     ]
    }
   ],
   "source": [
    "B = [\n",
    "    [10, -2, -1, 2, 3, 1, -4, 7],\n",
    "    [5, 11, 3, 10, -3, 3, 3, -4],\n",
    "    [7, 12, 1, 5, 3, -12, 2, 3],\n",
    "    [8, 7, -2, 1, 3, 2, 2, 4],\n",
    "    [2, -15, -1, 1, 4, -1, 8, 3],\n",
    "    [4, 2, 9, 1, 12, -1, 4, 1],\n",
    "    [-1, 4, -7, -1, 1, 1, -1, -3],\n",
    "    [-1, 3, 4, 1, 3, -4, 7, 6]\n",
    "]\n",
    "b = [0,12,-5,3,-25,-26,9,-7]\n",
    "\n",
    "imprimirMatriz(B)\n",
    "print(\"\\n\")\n",
    "Bgauss = metodoGauss(B)\n",
    "imprimirMatriz1(Bgauss)\n",
    "print(\"\\n\")\n",
    "\n",
    "B1 = [[0] * (len(B[0])) for _ in range(len(B))]\n",
    "imprimirMatriz(B1)\n",
    "\n",
    "for i in range(len(B1)):\n",
    "        for j in range(len(B1[0])):\n",
    "            B1[i][j] = B[i][j] \n",
    "\n",
    "for i in range(len(B1)):\n",
    "    B1[i].append(b[i])\n",
    "print(\"\\n\")\n",
    "imprimirMatriz(B1)\n",
    "\n",
    "C=metodoGauss(B1)\n",
    "imprimirMatriz1(C)\n",
    "\n",
    "\n",
    "\n",
    "#print_matrix_justified(metodoGauss(B))"
   ]
  },
  {
   "cell_type": "markdown",
   "id": "6883acc3-f534-47e3-bd1d-6b2a735a1f3e",
   "metadata": {},
   "source": [
    "## Sustitución inversa\n",
    "\n",
    "#### Paso 3: Sustitución hacia atrás\n",
    "Resolvemos el sistema triangular superior resultante.\n",
    "\n",
    "1. **Para $i$ desde $n$ hasta 1**:\n",
    "   - $\\displaystyle x_i = \\frac{b_i - \\sum_{j=i+1}^{n} a_{ij} x_j}{a_{ii}}$"
   ]
  },
  {
   "cell_type": "code",
   "execution_count": 14,
   "id": "114e1bcf-bd65-4a14-b17d-23170140a181",
   "metadata": {},
   "outputs": [
    {
     "name": "stdout",
     "output_type": "stream",
     "text": [
      "[-0.9999999999999986, 0.9999999999999992, -0.9999999999999996, 0.9999999999999991, -1.0000000000000004, 0.9999999999999993, -0.9999999999999991, 0.9999999999999987]\n"
     ]
    }
   ],
   "source": [
    "def sustInversa(matriz):\n",
    "    m=len(matriz) #renglones\n",
    "    n=len(matriz[0]) #columnas    \n",
    "    x = [0]*m     \n",
    "\n",
    "    x[m-1] = matriz[m-1][n-1]/matriz[m-1][n-2]\n",
    "        \n",
    "    for i in range(m-2,-1,-1):\n",
    "        suma=0\n",
    "        #print(\"i = \", i)\n",
    "        for j in range(i+1,m):\n",
    "            #print(\"matriz[\",i,\"][\",j,\"] = \",matriz[i][j], \"\\t x[\",j,\"] = \",x[j])\n",
    "            suma = suma + matriz[i][j]*x[j]\n",
    "        #print(\"suma = \",suma)\n",
    "        x[i] = (C[i][m]-suma)/C[i][i]\n",
    "        \n",
    "    return x\n",
    "\n",
    "sol=sustInversa(C)\n",
    "print(sol)\n",
    "    "
   ]
  },
  {
   "cell_type": "code",
   "execution_count": 8,
   "id": "8b167392-5dbe-48c4-9e47-300189918274",
   "metadata": {},
   "outputs": [
    {
     "data": {
      "text/plain": [
       "array([[ 10,  -2,  -1,   2,   3,   1,  -4,   7],\n",
       "       [  5,  11,   3,  10,  -3,   3,   3,  -4],\n",
       "       [  7,  12,   1,   5,   3, -12,   2,   3],\n",
       "       [  8,   7,  -2,   1,   3,   2,   2,   4],\n",
       "       [  2, -15,  -1,   1,   4,  -1,   8,   3],\n",
       "       [  4,   2,   9,   1,  12,  -1,   4,   1],\n",
       "       [ -1,   4,  -7,  -1,   1,   1,  -1,  -3],\n",
       "       [ -1,   3,   4,   1,   3,  -4,   7,   6]])"
      ]
     },
     "execution_count": 8,
     "metadata": {},
     "output_type": "execute_result"
    }
   ],
   "source": [
    "MB=np.array(B)\n",
    "b = [0,12,-5,3,-25,-26,9,-7]\n",
    "VB=np.array(sol)\n",
    "V=np.transpose(VB)\n",
    "MB\n"
   ]
  },
  {
   "cell_type": "code",
   "execution_count": 9,
   "id": "00729590-de66-452f-aeeb-4843182bfed7",
   "metadata": {},
   "outputs": [
    {
     "data": {
      "text/plain": [
       "array([  0.,  12.,  -5.,   3., -25., -26.,   9.,  -7.])"
      ]
     },
     "execution_count": 9,
     "metadata": {},
     "output_type": "execute_result"
    }
   ],
   "source": [
    "np.dot(MB,VB)"
   ]
  },
  {
   "cell_type": "markdown",
   "id": "33896409-984e-472f-b695-367c429d26ff",
   "metadata": {},
   "source": [
    "## Factorización LU"
   ]
  },
  {
   "cell_type": "code",
   "execution_count": 11,
   "id": "07e56564-6ee7-402b-b51d-d686ee0dd629",
   "metadata": {},
   "outputs": [
    {
     "name": "stdout",
     "output_type": "stream",
     "text": [
      "\n",
      "10.00000000\t-2.00000000\t-1.00000000\t2.00000000\t3.00000000\t1.00000000\t-4.00000000\t7.00000000\t\n",
      "0.00000000\t12.00000000\t3.50000000\t9.00000000\t-4.50000000\t2.50000000\t5.00000000\t-7.50000000\t\n",
      "0.00000000\t0.00000000\t-2.20833333\t-6.45000000\t5.92500000\t-15.49166667\t-0.78333333\t6.47500000\t\n",
      "0.00000000\t0.00000000\t0.00000000\t3.78113208\t-6.12452830\t25.42264151\t2.93207547\t-7.09811321\t\n",
      "0.00000000\t-0.00000000\t0.00000000\t0.00000000\t9.55089820\t-32.16167665\t12.53293413\t5.33532934\t\n",
      "0.00000000\t-0.00000000\t0.00000000\t0.00000000\t0.00000000\t89.48547544\t33.85705329\t-20.59310345\t\n",
      "0.00000000\t0.00000000\t0.00000000\t0.00000000\t0.00000000\t0.00000000\t-21.26473885\t-1.01700655\t\n",
      "0.00000000\t0.00000000\t-0.00000000\t0.00000000\t0.00000000\t0.00000000\t-0.00000000\t7.20680865\t\n",
      "\n",
      "\n",
      "1.00000000\t0.00000000\t0.00000000\t0.00000000\t0.00000000\t0.00000000\t0.00000000\t0.00000000\t\n",
      "0.50000000\t1.00000000\t0.00000000\t0.00000000\t0.00000000\t0.00000000\t0.00000000\t0.00000000\t\n",
      "0.70000000\t1.11666667\t1.00000000\t0.00000000\t0.00000000\t0.00000000\t0.00000000\t0.00000000\t\n",
      "0.80000000\t0.71666667\t1.67924528\t1.00000000\t0.00000000\t0.00000000\t0.00000000\t0.00000000\t\n",
      "0.20000000\t-1.21666667\t-1.56603774\t0.38323353\t1.00000000\t0.00000000\t0.00000000\t0.00000000\t\n",
      "0.40000000\t0.23333333\t-3.88679245\t-7.13273453\t-0.92194357\t1.00000000\t0.00000000\t0.00000000\t\n",
      "-0.10000000\t0.31666667\t3.71698113\t5.37524950\t1.42633229\t-0.36753716\t1.00000000\t0.00000000\t\n",
      "-0.10000000\t0.23333333\t-1.39622642\t-2.61976048\t-0.35830721\t0.32367558\t-0.26113170\t1.00000000\t\n",
      "\n",
      "[[ 10.  -2.  -1.   2.   3.   1.  -4.   7.]\n",
      " [  5.  11.   3.  10.  -3.   3.   3.  -4.]\n",
      " [  7.  12.   1.   5.   3. -12.   2.   3.]\n",
      " [  8.   7.  -2.   1.   3.   2.   2.   4.]\n",
      " [  2. -15.  -1.   1.   4.  -1.   8.   3.]\n",
      " [  4.   2.   9.   1.  12.  -1.   4.   1.]\n",
      " [ -1.   4.  -7.  -1.   1.   1.  -1.  -3.]\n",
      " [ -1.   3.   4.   1.   3.  -4.   7.   6.]]\n",
      "[[ 10  -2  -1   2   3   1  -4   7]\n",
      " [  5  11   3  10  -3   3   3  -4]\n",
      " [  7  12   1   5   3 -12   2   3]\n",
      " [  8   7  -2   1   3   2   2   4]\n",
      " [  2 -15  -1   1   4  -1   8   3]\n",
      " [  4   2   9   1  12  -1   4   1]\n",
      " [ -1   4  -7  -1   1   1  -1  -3]\n",
      " [ -1   3   4   1   3  -4   7   6]]\n"
     ]
    }
   ],
   "source": [
    "def factorizacionLU(matriz):\n",
    "    m=len(matriz) #renglones\n",
    "    n=len(matriz[0]) #columnas\n",
    "\n",
    "    matriz1 = [[0] * n for _ in range(m)]\n",
    "    \n",
    "    for i in range(m):\n",
    "        for j in range(n):\n",
    "            matriz1[i][j] = matriz[i][j]\n",
    "\n",
    "    L = []\n",
    "    for i in range(m):\n",
    "        L.append([0]*n)\n",
    "        L[i][i]=1\n",
    "\n",
    "    for j in range(m-1):\n",
    "        i=j\n",
    "        if(matriz1[j][j]==0):\n",
    "            while(matriz1[i][j]==0):\n",
    "                i=i+1\n",
    "            matriz1=cambioRenglones(j+1,i+1,matriz1)\n",
    "            \n",
    "        for i in range (j+1,m):\n",
    "            L[i][j]=matriz1[i][j]/matriz1[j][j]\n",
    "            matriz1=sumaRenglones(-matriz1[i][j]/matriz1[j][j],j+1,i+1,matriz1)\n",
    "        \n",
    "        #imprimirMatriz(matriz)    \n",
    "    return [matriz1,L]\n",
    "\n",
    "imprimirMatriz1(factorizacionLU(B)[0])\n",
    "print(\"\\n\")\n",
    "imprimirMatriz1(factorizacionLU(B)[1])\n",
    "MAa = np.array(factorizacionLU(B)[0])\n",
    "MBa = np.array(factorizacionLU(B)[1])\n",
    "print(\"\\n\")\n",
    "print(np.dot(MBa,MAa))\n",
    "print(MB)"
   ]
  }
 ],
 "metadata": {
  "kernelspec": {
   "display_name": "Python 3 (ipykernel)",
   "language": "python",
   "name": "python3"
  },
  "language_info": {
   "codemirror_mode": {
    "name": "ipython",
    "version": 3
   },
   "file_extension": ".py",
   "mimetype": "text/x-python",
   "name": "python",
   "nbconvert_exporter": "python",
   "pygments_lexer": "ipython3",
   "version": "3.11.7"
  }
 },
 "nbformat": 4,
 "nbformat_minor": 5
}
