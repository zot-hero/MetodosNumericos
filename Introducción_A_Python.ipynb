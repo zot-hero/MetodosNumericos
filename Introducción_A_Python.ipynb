{
 "cells": [
  {
   "cell_type": "markdown",
   "id": "ee0f3564-59a5-4057-87f3-cc0448a4ad37",
   "metadata": {},
   "source": [
    "# Lo que uso de Python"
   ]
  },
  {
   "cell_type": "markdown",
   "id": "25d9874c-0e4c-493b-abea-de03b1840d15",
   "metadata": {},
   "source": [
    "ctrl + + = zoom +\n",
    "ctrl + + = zoom -"
   ]
  },
  {
   "cell_type": "markdown",
   "id": "19dcdb53-2c3a-401a-860e-cdeecbde9b8f",
   "metadata": {},
   "source": [
    "### Explicar el print format"
   ]
  },
  {
   "cell_type": "markdown",
   "id": "472cce69-6442-4fed-9115-6b338a831a88",
   "metadata": {},
   "source": [
    "### "
   ]
  }
 ],
 "metadata": {
  "kernelspec": {
   "display_name": "Python 3 (ipykernel)",
   "language": "python",
   "name": "python3"
  },
  "language_info": {
   "codemirror_mode": {
    "name": "ipython",
    "version": 3
   },
   "file_extension": ".py",
   "mimetype": "text/x-python",
   "name": "python",
   "nbconvert_exporter": "python",
   "pygments_lexer": "ipython3",
   "version": "3.11.7"
  }
 },
 "nbformat": 4,
 "nbformat_minor": 5
}
