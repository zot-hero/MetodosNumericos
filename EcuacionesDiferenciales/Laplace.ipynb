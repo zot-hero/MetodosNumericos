{
 "cells": [
  {
   "cell_type": "code",
   "execution_count": 12,
   "metadata": {},
   "outputs": [
    {
     "data": {
      "image/png": "[encoded data removed]",
      "text/plain": [
       "<Figure size 640x480 with 1 Axes>"
      ]
     },
     "metadata": {},
     "output_type": "display_data"
    },
    {
     "name": "stdout",
     "output_type": "stream",
     "text": [
      "        -s\n",
      "2    2⋅ℯ  \n",
      "── - ─────\n",
      " 2     2  \n",
      "s     s   \n"
     ]
    }
   ],
   "source": [
    "import sympy as sp\n",
    "import matplotlib.pyplot as plt\n",
    "import numpy as np\n",
    "\n",
    "t = sp.symbols('t')\n",
    "s = sp.symbols('s')\n",
    "\n",
    "f = sp.Piecewise((2*t,t<1),(2,t>=1))\n",
    "\n",
    "x_new = np.arange(-1,10,0.01)\n",
    "y_new = [f.subs(t,elem) for elem in x_new ]\n",
    "\n",
    "plt.plot(x_new,y_new, label = 'Función')\n",
    "plt.legend()\n",
    "plt.show()\n",
    "\n",
    "F = sp.laplace_transform(f,t,s, noconds=True)\n",
    "sp.pprint(F)"
   ]
  },
  {
   "cell_type": "code",
   "execution_count": 23,
   "metadata": {},
   "outputs": [
    {
     "name": "stdout",
     "output_type": "stream",
     "text": [
      "   1          4           6    \n",
      "──────── - ──────── + ─────────\n",
      "       2          3           4\n",
      "(s + 2)    (s - 4)    (s - 10) \n"
     ]
    }
   ],
   "source": [
    "f1 = t*(sp.exp(-t)-t*sp.exp(5*t))**2\n",
    "\n",
    "F = sp.laplace_transform(f1,t,s, noconds=True)\n",
    "sp.pprint(F, use_unicode = True)"
   ]
  },
  {
   "cell_type": "code",
   "execution_count": 27,
   "metadata": {},
   "outputs": [
    {
     "name": "stdout",
     "output_type": "stream",
     "text": [
      "⎛1   8    8 ⎞  -s\n",
      "⎜─ + ── + ──⎟⋅ℯ  \n",
      "⎜s    2    3⎟    \n",
      "⎝    s    s ⎠    \n"
     ]
    }
   ],
   "source": [
    "f2 =  (4*t**2-3)*sp.Heaviside(t-1)\n",
    "\n",
    "F2 = sp.laplace_transform(f2,t,s, noconds = True)\n",
    "sp.pprint(F2, use_unicode = True)"
   ]
  },
  {
   "cell_type": "code",
   "execution_count": 36,
   "metadata": {},
   "outputs": [
    {
     "name": "stdout",
     "output_type": "stream",
     "text": [
      "      1            1        5      1  \n",
      "- ────────── + ───────── - ──── + ────\n",
      "  48⋅(s + 4)   3⋅(s + 1)   16⋅s      2\n",
      "                                  4⋅s \n"
     ]
    },
    {
     "data": {
      "text/latex": [
       "$\\displaystyle \\frac{t \\theta\\left(t\\right)}{4} - \\frac{5 \\theta\\left(t\\right)}{16} + \\frac{e^{- t} \\theta\\left(t\\right)}{3} - \\frac{e^{- 4 t} \\theta\\left(t\\right)}{48}$"
      ],
      "text/plain": [
       "t*Heaviside(t)/4 - 5*Heaviside(t)/16 + exp(-t)*Heaviside(t)/3 - exp(-4*t)*Heaviside(t)/48"
      ]
     },
     "execution_count": 36,
     "metadata": {},
     "output_type": "execute_result"
    }
   ],
   "source": [
    "F3 = 1/(s**2*(s**2+5*s+4))\n",
    "F3 = sp.simplify(F3)\n",
    "\n",
    "sp.pprint(sp.apart(F3),use_unicode = True, wrap_line=False)\n",
    "\n",
    "sp.inverse_laplace_transform(F3,s,t)\n"
   ]
  }
 ],
 "metadata": {
  "kernelspec": {
   "display_name": "Python 3",
   "language": "python",
   "name": "python3"
  },
  "language_info": {
   "codemirror_mode": {
    "name": "ipython",
    "version": 3
   },
   "file_extension": ".py",
   "mimetype": "text/x-python",
   "name": "python",
   "nbconvert_exporter": "python",
   "pygments_lexer": "ipython3",
   "version": "3.11.4"
  }
 },
 "nbformat": 4,
 "nbformat_minor": 2
}
