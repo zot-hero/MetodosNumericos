{
 "cells": [
  {
   "cell_type": "markdown",
   "id": "a8e23ab8-159c-4a3f-bf6f-5e138336fe9a",
   "metadata": {
    "jp-MarkdownHeadingCollapsed": true
   },
   "source": [
    "# Ecuaciones diferenciales"
   ]
  },
  {
   "cell_type": "markdown",
   "id": "79c9cb2f-e09e-4c84-a7bd-aa3d74901da0",
   "metadata": {},
   "source": [
    "# `laplace_transform`\n",
    "\n",
    "Calcula la transformada de Laplace de una función.\n",
    "\n",
    "## Sintaxis\n",
    "```python\n",
    "laplace_transform(f, t, s, noconds=False)\n",
    "```\n",
    "## Paramétros\n",
    "\n",
    "- **`f`**: La función a transformar.\r\n",
    "- **`t`**: La variable original de la función.\r\n",
    "- **`s`**: La variable de la transformada.\r\n",
    "- **`noconds`**: (Opcional) Si es `True`, no devuelve las condiciones de convergenc\n",
    "\n",
    "\n"
   ]
  },
  {
   "cell_type": "code",
   "execution_count": 31,
   "id": "872f49ab-1bd6-421a-9198-ae4c1903ef17",
   "metadata": {},
   "outputs": [
    {
     "name": "stdout",
     "output_type": "stream",
     "text": [
      "24/s**5\n",
      "s/(s**2 + 1)\n"
     ]
    },
    {
     "data": {
      "text/latex": [
       "$\\displaystyle \\frac{s^{- a} \\Gamma\\left(a + 1\\right)}{s}$"
      ],
      "text/plain": [
       "gamma(a + 1)/(s*s**a)"
      ]
     },
     "execution_count": 31,
     "metadata": {},
     "output_type": "execute_result"
    }
   ],
   "source": [
    "#from sympy import DiracDelta, exp, laplace_transform\n",
    "#from sympy.abc import s, a\n",
    "import sympy as sp\n",
    "from sympy.abc import a\n",
    "import numpy as np\n",
    "\n",
    "t = sp.symbols('t', real = True, positive = True)\n",
    "s = sp.symbols('s')\n",
    "\n",
    "print(laplace_transform(t**4, t, s, noconds = True))\n",
    "print(laplace_transform(sp.cos(t), t, s,noconds = True))\n",
    "laplace_transform(t**a, t, s,noconds = True)"
   ]
  },
  {
   "cell_type": "code",
   "execution_count": 32,
   "id": "2284f978-e433-4f75-86fa-285f5f7e1aa5",
   "metadata": {},
   "outputs": [
    {
     "ename": "ImportError",
     "evalue": "cannot import name 'laplace_correspondence' from 'sympy' (C:\\Users\\syyyk\\anaconda3\\Lib\\site-packages\\sympy\\__init__.py)",
     "output_type": "error",
     "traceback": [
      "\u001b[1;31m---------------------------------------------------------------------------\u001b[0m",
      "\u001b[1;31mImportError\u001b[0m                               Traceback (most recent call last)",
      "Cell \u001b[1;32mIn[32], line 1\u001b[0m\n\u001b[1;32m----> 1\u001b[0m \u001b[38;5;28;01mfrom\u001b[39;00m \u001b[38;5;21;01msympy\u001b[39;00m \u001b[38;5;28;01mimport\u001b[39;00m Function, laplace_correspondence, diff, solve\n\u001b[0;32m      2\u001b[0m \u001b[38;5;28;01mfrom\u001b[39;00m \u001b[38;5;21;01msympy\u001b[39;00m \u001b[38;5;28;01mimport\u001b[39;00m laplace_initial_conds, inverse_laplace_transform\n\u001b[0;32m      3\u001b[0m \u001b[38;5;28;01mfrom\u001b[39;00m \u001b[38;5;21;01msympy\u001b[39;00m\u001b[38;5;21;01m.\u001b[39;00m\u001b[38;5;21;01mabc\u001b[39;00m \u001b[38;5;28;01mimport\u001b[39;00m d, k, m, v\n",
      "\u001b[1;31mImportError\u001b[0m: cannot import name 'laplace_correspondence' from 'sympy' (C:\\Users\\syyyk\\anaconda3\\Lib\\site-packages\\sympy\\__init__.py)"
     ]
    }
   ],
   "source": [
    "from sympy import Function, laplace_correspondence, diff, solve\n",
    "from sympy import laplace_initial_conds, inverse_laplace_transform\n",
    "from sympy.abc import d, k, m, v\n",
    "\n",
    "x = Function('x')\n",
    "X = Function('X')\n",
    "f = m*diff(x(t), t, 2) + d*diff(x(t), t) + k*x(t)\n",
    "F = laplace_transform(f, t, s, noconds=True)\n",
    "F = laplace_correspondence(F, {x: X})\n",
    "F = laplace_initial_conds(F, t, {x: [0, v]})\n",
    "Xs = solve(F, X(s))[0]\n",
    "m*v/(d*s + k + m*s**2)\n",
    "inverse_laplace_transform(Xs, s, t)\n"
   ]
  }
 ],
 "metadata": {
  "kernelspec": {
   "display_name": "Python 3 (ipykernel)",
   "language": "python",
   "name": "python3"
  },
  "language_info": {
   "codemirror_mode": {
    "name": "ipython",
    "version": 3
   },
   "file_extension": ".py",
   "mimetype": "text/x-python",
   "name": "python",
   "nbconvert_exporter": "python",
   "pygments_lexer": "ipython3",
   "version": "3.11.7"
  }
 },
 "nbformat": 4,
 "nbformat_minor": 5
}
