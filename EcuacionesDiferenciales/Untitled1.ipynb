{
 "cells": [
  {
   "cell_type": "markdown",
   "id": "a8e23ab8-159c-4a3f-bf6f-5e138336fe9a",
   "metadata": {
    "jp-MarkdownHeadingCollapsed": true
   },
   "source": [
    "# Ecuaciones diferenciales"
   ]
  },
  {
   "cell_type": "markdown",
   "id": "79c9cb2f-e09e-4c84-a7bd-aa3d74901da0",
   "metadata": {},
   "source": [
    "# `laplace_transform`\n",
    "\n",
    "Calcula la transformada de Laplace de una función.\n",
    "\n",
    "## Sintaxis\n",
    "```python\n",
    "laplace_transform(f, t, s, noconds=False)\n",
    "```\n",
    "## Paramétros\n",
    "\n",
    "- **`f`**: La función a transformar.\n",
    "- **`t`**: La variable original de la función.\n",
    "- **`s`**: La variable de la transformada.\n",
    "- **`noconds`**: (Opcional) Si es `True`, no devuelve las condiciones de convergenc\n",
    "\n",
    "\n"
   ]
  },
  {
   "cell_type": "code",
   "execution_count": 31,
   "id": "872f49ab-1bd6-421a-9198-ae4c1903ef17",
   "metadata": {},
   "outputs": [
    {
     "name": "stdout",
     "output_type": "stream",
     "text": [
      "24/s**5\n",
      "s/(s**2 + 1)\n"
     ]
    },
    {
     "data": {
      "text/latex": [
       "$\\displaystyle \\frac{s^{- a} \\Gamma\\left(a + 1\\right)}{s}$"
      ],
      "text/plain": [
       "gamma(a + 1)/(s*s**a)"
      ]
     },
     "execution_count": 31,
     "metadata": {},
     "output_type": "execute_result"
    }
   ],
   "source": [
    "#from sympy import DiracDelta, exp, laplace_transform\n",
    "#from sympy.abc import s, a\n",
    "import sympy as sp\n",
    "from sympy.abc import a\n",
    "import numpy as np\n",
    "\n",
    "t = sp.symbols('t', real = True, positive = True)\n",
    "s = sp.symbols('s')\n",
    "\n",
    "print(laplace_transform(t**4, t, s, noconds = True))\n",
    "print(laplace_transform(sp.cos(t), t, s,noconds = True))\n",
    "laplace_transform(t**a, t, s,noconds = True)"
   ]
  },
  {
   "cell_type": "code",
   "execution_count": 1,
   "id": "2284f978-e433-4f75-86fa-285f5f7e1aa5",
   "metadata": {},
   "outputs": [
    {
     "ename": "NameError",
     "evalue": "name 't' is not defined",
     "output_type": "error",
     "traceback": [
      "\u001b[1;31m---------------------------------------------------------------------------\u001b[0m",
      "\u001b[1;31mNameError\u001b[0m                                 Traceback (most recent call last)",
      "Cell \u001b[1;32mIn[1], line 7\u001b[0m\n\u001b[0;32m      5\u001b[0m x \u001b[38;5;241m=\u001b[39m Function(\u001b[38;5;124m'\u001b[39m\u001b[38;5;124mx\u001b[39m\u001b[38;5;124m'\u001b[39m)\n\u001b[0;32m      6\u001b[0m X \u001b[38;5;241m=\u001b[39m Function(\u001b[38;5;124m'\u001b[39m\u001b[38;5;124mX\u001b[39m\u001b[38;5;124m'\u001b[39m)\n\u001b[1;32m----> 7\u001b[0m f \u001b[38;5;241m=\u001b[39m m\u001b[38;5;241m*\u001b[39mdiff(x(\u001b[43mt\u001b[49m), t, \u001b[38;5;241m2\u001b[39m) \u001b[38;5;241m+\u001b[39m d\u001b[38;5;241m*\u001b[39mdiff(x(t), t) \u001b[38;5;241m+\u001b[39m k\u001b[38;5;241m*\u001b[39mx(t)\n\u001b[0;32m      8\u001b[0m F \u001b[38;5;241m=\u001b[39m laplace_transform(f, t, s, noconds\u001b[38;5;241m=\u001b[39m\u001b[38;5;28;01mTrue\u001b[39;00m)\n\u001b[0;32m      9\u001b[0m F \u001b[38;5;241m=\u001b[39m laplace_correspondence(F, {x: X})\n",
      "\u001b[1;31mNameError\u001b[0m: name 't' is not defined"
     ]
    }
   ],
   "source": [
    "from sympy import Function, laplace_correspondence, diff, solve\n",
    "from sympy import laplace_initial_conds, inverse_laplace_transform\n",
    "from sympy.abc import d, k, m, v\n",
    "\n",
    "x = Function('x')\n",
    "X = Function('X')\n",
    "f = m*diff(x(t), t, 2) + d*diff(x(t), t) + k*x(t)\n",
    "F = laplace_transform(f, t, s, noconds=True)\n",
    "F = laplace_correspondence(F, {x: X})\n",
    "F = laplace_initial_conds(F, t, {x: [0, v]})\n",
    "Xs = solve(F, X(s))[0]\n",
    "m*v/(d*s + k + m*s**2)\n",
    "inverse_laplace_transform(Xs, s, t)\n"
   ]
  }
 ],
 "metadata": {
  "kernelspec": {
   "display_name": "Python 3 (ipykernel)",
   "language": "python",
   "name": "python3"
  },
  "language_info": {
   "codemirror_mode": {
    "name": "ipython",
    "version": 3
   },
   "file_extension": ".py",
   "mimetype": "text/x-python",
   "name": "python",
   "nbconvert_exporter": "python",
   "pygments_lexer": "ipython3",
   "version": "3.11.4"
  }
 },
 "nbformat": 4,
 "nbformat_minor": 5
}
